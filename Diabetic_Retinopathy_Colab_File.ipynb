{
  "nbformat": 4,
  "nbformat_minor": 0,
  "metadata": {
    "colab": {
      "provenance": []
    },
    "kernelspec": {
      "name": "python3",
      "display_name": "Python 3"
    },
    "language_info": {
      "name": "python"
    }
  },
  "cells": [
    {
      "cell_type": "code",
      "execution_count": 1,
      "metadata": {
        "colab": {
          "base_uri": "https://localhost:8080/"
        },
        "id": "QCfTk-AhuP_3",
        "outputId": "35ff520c-b289-4275-aa04-ec6b431b39ac"
      },
      "outputs": [
        {
          "output_type": "stream",
          "name": "stdout",
          "text": [
            "Archive:  /content/Diabetic_Retinopathy_Colab.zip\n",
            "   creating: Diabetic_Retinopathy_Colab/dataset/\n",
            "   creating: Diabetic_Retinopathy_Colab/dataset/Testing/\n",
            "   creating: Diabetic_Retinopathy_Colab/dataset/Testing/Classification/\n",
            "  inflating: Diabetic_Retinopathy_Colab/dataset/Testing/Classification/Diabetic Retinopathy classification.jpg  \n",
            "   creating: Diabetic_Retinopathy_Colab/dataset/Testing/Detection/\n",
            "  inflating: Diabetic_Retinopathy_Colab/dataset/Testing/Detection/1-s2.0-S2666307423000050-gr3.jpg  \n",
            "  inflating: Diabetic_Retinopathy_Colab/dataset/Testing/Detection/diabetic_retinopathy_detection-original-3.0.0.png  \n",
            "  inflating: Diabetic_Retinopathy_Colab/dataset/Testing/Detection/download (1).jpg  \n",
            "   creating: Diabetic_Retinopathy_Colab/dataset/Testing/Normal eye/\n",
            "  inflating: Diabetic_Retinopathy_Colab/dataset/Testing/Normal eye/download (1).jpg  \n",
            "  inflating: Diabetic_Retinopathy_Colab/dataset/Testing/Normal eye/download.jpg  \n",
            "  inflating: Diabetic_Retinopathy_Colab/dataset/Testing/Normal eye/images.jpg  \n",
            "   creating: Diabetic_Retinopathy_Colab/dataset/Testing/Normal Retina and Diabetic Retinopathy Retina/\n",
            "  inflating: Diabetic_Retinopathy_Colab/dataset/Testing/Normal Retina and Diabetic Retinopathy Retina/download 23.jpg  \n",
            "  inflating: Diabetic_Retinopathy_Colab/dataset/Testing/Normal Retina and Diabetic Retinopathy Retina/download.jpg  \n",
            "  inflating: Diabetic_Retinopathy_Colab/dataset/Testing/Normal Retina and Diabetic Retinopathy Retina/Normal eye and Diabetic Eye.jpg  \n",
            "  inflating: Diabetic_Retinopathy_Colab/dataset/Testing/Normal Retina and Diabetic Retinopathy Retina/what-is-diabetic-retinopathy-1.jpg  \n",
            "   creating: Diabetic_Retinopathy_Colab/dataset/Training/\n",
            "   creating: Diabetic_Retinopathy_Colab/dataset/Training/Classification/\n",
            "  inflating: Diabetic_Retinopathy_Colab/dataset/Training/Classification/Diabetic Retinopathy classification.jpg  \n",
            "   creating: Diabetic_Retinopathy_Colab/dataset/Training/Detection/\n",
            "  inflating: Diabetic_Retinopathy_Colab/dataset/Training/Detection/1-s2.0-S2666307423000050-gr3.jpg  \n",
            "  inflating: Diabetic_Retinopathy_Colab/dataset/Training/Detection/diabetic_retinopathy_detection-original-3.0.0.png  \n",
            "  inflating: Diabetic_Retinopathy_Colab/dataset/Training/Detection/download (1).jpg  \n",
            "   creating: Diabetic_Retinopathy_Colab/dataset/Training/Normal eye/\n",
            "  inflating: Diabetic_Retinopathy_Colab/dataset/Training/Normal eye/download (1).jpg  \n",
            "  inflating: Diabetic_Retinopathy_Colab/dataset/Training/Normal eye/download.jpg  \n",
            "  inflating: Diabetic_Retinopathy_Colab/dataset/Training/Normal eye/images.jpg  \n",
            "   creating: Diabetic_Retinopathy_Colab/dataset/Training/Normal Retina and Diabetic Retinopathy Retina/\n",
            "  inflating: Diabetic_Retinopathy_Colab/dataset/Training/Normal Retina and Diabetic Retinopathy Retina/download 23.jpg  \n",
            "  inflating: Diabetic_Retinopathy_Colab/dataset/Training/Normal Retina and Diabetic Retinopathy Retina/download.jpg  \n",
            "  inflating: Diabetic_Retinopathy_Colab/dataset/Training/Normal Retina and Diabetic Retinopathy Retina/Normal eye and Diabetic Eye.jpg  \n",
            "  inflating: Diabetic_Retinopathy_Colab/dataset/Training/Normal Retina and Diabetic Retinopathy Retina/what-is-diabetic-retinopathy-1.jpg  \n"
          ]
        }
      ],
      "source": [
        "!unzip '/content/Diabetic_Retinopathy_Colab.zip'"
      ]
    },
    {
      "cell_type": "code",
      "source": [
        "# Data Augmentation\n",
        "\n",
        "from tensorflow.keras.preprocessing.image import ImageDataGenerator"
      ],
      "metadata": {
        "id": "BFc79C_PuoPm"
      },
      "execution_count": 2,
      "outputs": []
    },
    {
      "cell_type": "code",
      "source": [
        "train_gen = ImageDataGenerator(rescale=(1./255),horizontal_flip=True,shear_range=0.2)\n",
        "test_gen = ImageDataGenerator(rescale=(1./255))  #--> (0 to 255) convert to (0 to 1)"
      ],
      "metadata": {
        "id": "NH60r0JQuvh9"
      },
      "execution_count": 3,
      "outputs": []
    },
    {
      "cell_type": "code",
      "source": [
        "train = train_gen.flow_from_directory('/content/Diabetic_Retinopathy_Colab/dataset/Testing',\n",
        "                                      target_size=(120, 120),\n",
        "                                      class_mode='categorical',\n",
        "                                      batch_size=8)\n",
        "test = test_gen.flow_from_directory('/content/Diabetic_Retinopathy_Colab/dataset/Testing',\n",
        "                                    target_size=(120, 120),\n",
        "                                      class_mode='categorical',\n",
        "                                      batch_size=8)"
      ],
      "metadata": {
        "colab": {
          "base_uri": "https://localhost:8080/"
        },
        "id": "ZCqpskDEuyQl",
        "outputId": "bf02b9bc-95b7-4328-e6ae-f397f1dcf5d3"
      },
      "execution_count": 5,
      "outputs": [
        {
          "output_type": "stream",
          "name": "stdout",
          "text": [
            "Found 11 images belonging to 4 classes.\n",
            "Found 11 images belonging to 4 classes.\n"
          ]
        }
      ]
    },
    {
      "cell_type": "code",
      "source": [
        "train.class_indices"
      ],
      "metadata": {
        "colab": {
          "base_uri": "https://localhost:8080/"
        },
        "id": "PwgJIAk6vAee",
        "outputId": "19b64688-7604-49d7-b772-09d95e5df9aa"
      },
      "execution_count": 6,
      "outputs": [
        {
          "output_type": "execute_result",
          "data": {
            "text/plain": [
              "{'Classification': 0,\n",
              " 'Detection': 1,\n",
              " 'Normal Retina and Diabetic Retinopathy Retina': 2,\n",
              " 'Normal eye': 3}"
            ]
          },
          "metadata": {},
          "execution_count": 6
        }
      ]
    },
    {
      "cell_type": "code",
      "source": [
        "# CNN\n",
        "\n",
        "from tensorflow.keras.layers import Convolution2D,MaxPooling2D,Flatten,Dense\n",
        "from tensorflow.keras.models import Sequential"
      ],
      "metadata": {
        "id": "lNeuo0oTvCk7"
      },
      "execution_count": 7,
      "outputs": []
    },
    {
      "cell_type": "code",
      "source": [
        "model = Sequential()\n",
        "model.add(Convolution2D(20,(3,3),activation='relu',input_shape=(120, 120, 3)))\n",
        "model.add(MaxPooling2D(pool_size=(2,2)))\n",
        "model.add(Flatten())\n",
        "model.add(Dense(45,activation='relu'))\n",
        "model.add(Dense(4,activation='softmax'))"
      ],
      "metadata": {
        "id": "smGAGjo_vFeb"
      },
      "execution_count": 8,
      "outputs": []
    },
    {
      "cell_type": "code",
      "source": [
        "model.compile(optimizer='adam',loss='categorical_crossentropy',metrics=['accuracy'])"
      ],
      "metadata": {
        "id": "lsaK0om0vH2u"
      },
      "execution_count": 9,
      "outputs": []
    },
    {
      "cell_type": "code",
      "source": [
        "model.fit(train,batch_size=8,validation_data=test,epochs=10)"
      ],
      "metadata": {
        "colab": {
          "base_uri": "https://localhost:8080/"
        },
        "id": "Ll_TePsWvMhN",
        "outputId": "fa5d0b72-7d4f-4e19-92e2-f9044ba612df"
      },
      "execution_count": 10,
      "outputs": [
        {
          "output_type": "stream",
          "name": "stdout",
          "text": [
            "Epoch 1/10\n",
            "2/2 [==============================] - 1s 376ms/step - loss: 4.9058 - accuracy: 0.2727 - val_loss: 1.7895 - val_accuracy: 0.8182\n",
            "Epoch 2/10\n",
            "2/2 [==============================] - 0s 277ms/step - loss: 6.3508 - accuracy: 0.5455 - val_loss: 7.6619 - val_accuracy: 0.3636\n",
            "Epoch 3/10\n",
            "2/2 [==============================] - 0s 207ms/step - loss: 4.0541 - accuracy: 0.5455 - val_loss: 3.1307 - val_accuracy: 0.3636\n",
            "Epoch 4/10\n",
            "2/2 [==============================] - 0s 243ms/step - loss: 3.0827 - accuracy: 0.3636 - val_loss: 2.7194 - val_accuracy: 0.6364\n",
            "Epoch 5/10\n",
            "2/2 [==============================] - 0s 215ms/step - loss: 3.5264 - accuracy: 0.3636 - val_loss: 2.5671 - val_accuracy: 0.3636\n",
            "Epoch 6/10\n",
            "2/2 [==============================] - 1s 320ms/step - loss: 2.2972 - accuracy: 0.4545 - val_loss: 1.2448 - val_accuracy: 0.6364\n",
            "Epoch 7/10\n",
            "2/2 [==============================] - 1s 320ms/step - loss: 2.3121 - accuracy: 0.4545 - val_loss: 2.2744 - val_accuracy: 0.4545\n",
            "Epoch 8/10\n",
            "2/2 [==============================] - 0s 317ms/step - loss: 1.3692 - accuracy: 0.5455 - val_loss: 0.2862 - val_accuracy: 0.9091\n",
            "Epoch 9/10\n",
            "2/2 [==============================] - 1s 329ms/step - loss: 0.1241 - accuracy: 1.0000 - val_loss: 0.0584 - val_accuracy: 1.0000\n",
            "Epoch 10/10\n",
            "2/2 [==============================] - 1s 258ms/step - loss: 0.0873 - accuracy: 1.0000 - val_loss: 0.1285 - val_accuracy: 1.0000\n"
          ]
        },
        {
          "output_type": "execute_result",
          "data": {
            "text/plain": [
              "<keras.src.callbacks.History at 0x7dde96ab62f0>"
            ]
          },
          "metadata": {},
          "execution_count": 10
        }
      ]
    },
    {
      "cell_type": "code",
      "source": [
        "model.save('Updated-Xception-diabetic-retinopathy.h5')"
      ],
      "metadata": {
        "id": "a9VcynXOvQ-U"
      },
      "execution_count": 13,
      "outputs": []
    },
    {
      "cell_type": "code",
      "source": [
        "# Testing\n",
        "\n",
        "import numpy as np\n",
        "from tensorflow.keras.preprocessing import image"
      ],
      "metadata": {
        "id": "UNSmtAKuv4jK"
      },
      "execution_count": 14,
      "outputs": []
    },
    {
      "cell_type": "code",
      "source": [
        "img = image.load_img('/content/Diabetic_Retinopathy_Colab/dataset/Training/Classification/Diabetic Retinopathy classification.jpg',target_size=(120,120))"
      ],
      "metadata": {
        "id": "7aGzrO53v7Ve"
      },
      "execution_count": 15,
      "outputs": []
    },
    {
      "cell_type": "code",
      "source": [
        "img"
      ],
      "metadata": {
        "colab": {
          "base_uri": "https://localhost:8080/",
          "height": 137
        },
        "id": "q9fIUrwywCe9",
        "outputId": "0a1718de-1280-4607-9780-dc3b37c6a48b"
      },
      "execution_count": 16,
      "outputs": [
        {
          "output_type": "execute_result",
          "data": {
            "text/plain": [
              "<PIL.Image.Image image mode=RGB size=120x120>"
            ],
            "image/png": "[encoded data removed]"
          },
          "metadata": {},
          "execution_count": 16
        }
      ]
    },
    {
      "cell_type": "code",
      "source": [
        "img = image.img_to_array(img)\n",
        "img"
      ],
      "metadata": {
        "colab": {
          "base_uri": "https://localhost:8080/"
        },
        "id": "D3rUt0CQwFJ3",
        "outputId": "8aae464c-3299-4ef6-f0d7-766a2f2c96ac"
      },
      "execution_count": 17,
      "outputs": [
        {
          "output_type": "execute_result",
          "data": {
            "text/plain": [
              "array([[[255., 255., 255.],\n",
              "        [255., 255., 255.],\n",
              "        [255., 255., 255.],\n",
              "        ...,\n",
              "        [255., 255., 255.],\n",
              "        [255., 255., 255.],\n",
              "        [255., 255., 255.]],\n",
              "\n",
              "       [[255., 255., 255.],\n",
              "        [255., 255., 255.],\n",
              "        [255., 255., 255.],\n",
              "        ...,\n",
              "        [255., 255., 255.],\n",
              "        [255., 255., 255.],\n",
              "        [255., 255., 255.]],\n",
              "\n",
              "       [[255., 255., 255.],\n",
              "        [255., 255., 255.],\n",
              "        [255., 255., 255.],\n",
              "        ...,\n",
              "        [255., 255., 255.],\n",
              "        [255., 255., 255.],\n",
              "        [255., 255., 255.]],\n",
              "\n",
              "       ...,\n",
              "\n",
              "       [[137., 196., 130.],\n",
              "        [136., 199., 129.],\n",
              "        [134., 200., 129.],\n",
              "        ...,\n",
              "        [244., 142.,  14.],\n",
              "        [245., 142.,  14.],\n",
              "        [255., 254., 255.]],\n",
              "\n",
              "       [[143., 191., 139.],\n",
              "        [140., 195., 138.],\n",
              "        [140., 195., 138.],\n",
              "        ...,\n",
              "        [228., 145.,  39.],\n",
              "        [227., 145.,  45.],\n",
              "        [255., 255., 248.]],\n",
              "\n",
              "       [[ 56.,  68.,  54.],\n",
              "        [ 54.,  71.,  53.],\n",
              "        [ 56.,  70.,  55.],\n",
              "        ...,\n",
              "        [ 80.,  60.,  35.],\n",
              "        [ 78.,  60.,  36.],\n",
              "        [ 66.,  67.,  61.]]], dtype=float32)"
            ]
          },
          "metadata": {},
          "execution_count": 17
        }
      ]
    },
    {
      "cell_type": "code",
      "source": [
        "img = np.expand_dims(img,axis=0)\n",
        "img"
      ],
      "metadata": {
        "colab": {
          "base_uri": "https://localhost:8080/"
        },
        "id": "f8s9OO17wIPZ",
        "outputId": "ed4c6153-650f-48c1-b359-ac4bc49c7e2c"
      },
      "execution_count": 18,
      "outputs": [
        {
          "output_type": "execute_result",
          "data": {
            "text/plain": [
              "array([[[[255., 255., 255.],\n",
              "         [255., 255., 255.],\n",
              "         [255., 255., 255.],\n",
              "         ...,\n",
              "         [255., 255., 255.],\n",
              "         [255., 255., 255.],\n",
              "         [255., 255., 255.]],\n",
              "\n",
              "        [[255., 255., 255.],\n",
              "         [255., 255., 255.],\n",
              "         [255., 255., 255.],\n",
              "         ...,\n",
              "         [255., 255., 255.],\n",
              "         [255., 255., 255.],\n",
              "         [255., 255., 255.]],\n",
              "\n",
              "        [[255., 255., 255.],\n",
              "         [255., 255., 255.],\n",
              "         [255., 255., 255.],\n",
              "         ...,\n",
              "         [255., 255., 255.],\n",
              "         [255., 255., 255.],\n",
              "         [255., 255., 255.]],\n",
              "\n",
              "        ...,\n",
              "\n",
              "        [[137., 196., 130.],\n",
              "         [136., 199., 129.],\n",
              "         [134., 200., 129.],\n",
              "         ...,\n",
              "         [244., 142.,  14.],\n",
              "         [245., 142.,  14.],\n",
              "         [255., 254., 255.]],\n",
              "\n",
              "        [[143., 191., 139.],\n",
              "         [140., 195., 138.],\n",
              "         [140., 195., 138.],\n",
              "         ...,\n",
              "         [228., 145.,  39.],\n",
              "         [227., 145.,  45.],\n",
              "         [255., 255., 248.]],\n",
              "\n",
              "        [[ 56.,  68.,  54.],\n",
              "         [ 54.,  71.,  53.],\n",
              "         [ 56.,  70.,  55.],\n",
              "         ...,\n",
              "         [ 80.,  60.,  35.],\n",
              "         [ 78.,  60.,  36.],\n",
              "         [ 66.,  67.,  61.]]]], dtype=float32)"
            ]
          },
          "metadata": {},
          "execution_count": 18
        }
      ]
    },
    {
      "cell_type": "code",
      "source": [
        "np.argmax(model.predict(img))"
      ],
      "metadata": {
        "colab": {
          "base_uri": "https://localhost:8080/"
        },
        "id": "StdQAM3hwK28",
        "outputId": "26fc13b5-0045-4556-fc43-83bf04690050"
      },
      "execution_count": 19,
      "outputs": [
        {
          "output_type": "stream",
          "name": "stdout",
          "text": [
            "1/1 [==============================] - 0s 96ms/step\n"
          ]
        },
        {
          "output_type": "execute_result",
          "data": {
            "text/plain": [
              "0"
            ]
          },
          "metadata": {},
          "execution_count": 19
        }
      ]
    }
  ]
}